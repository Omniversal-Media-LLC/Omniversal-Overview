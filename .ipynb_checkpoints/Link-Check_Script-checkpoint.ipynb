{
 "cells": [
  {
   "cell_type": "code",
   "execution_count": 1,
   "id": "3d4158bd-78ef-424e-95ad-3b9420463c63",
   "metadata": {},
   "outputs": [
    {
     "name": "stdout",
     "output_type": "stream",
     "text": [
      "✅ All notebook links are valid!\n"
     ]
    }
   ],
   "source": [
    "import os\n",
    "import nbformat\n",
    "\n",
    "def check_markdown_links(base_dir):\n",
    "    broken_links = []\n",
    "    \n",
    "    for root, _, files in os.walk(base_dir):\n",
    "        for file in files:\n",
    "            if file.endswith(\".ipynb\"):\n",
    "                path = os.path.join(root, file)\n",
    "                \n",
    "                with open(path, \"r\", encoding=\"utf-8\") as f:\n",
    "                    try:\n",
    "                        nb = nbformat.read(f, as_version=4)\n",
    "                        \n",
    "                        for cell in nb.cells:\n",
    "                            if cell.cell_type == \"markdown\":\n",
    "                                if \"[Aether_Index.ipynb]\" in cell.source:\n",
    "                                    link = cell.source.split(\"](\")[-1].split(\")\")[0]  # Extract link\n",
    "                                    linked_file = os.path.normpath(os.path.join(root, link))\n",
    "                                    \n",
    "                                    if not os.path.exists(linked_file):\n",
    "                                        broken_links.append((path, link))\n",
    "                    \n",
    "                    except Exception as e:\n",
    "                        print(f\"Error reading {path}: {e}\")\n",
    "\n",
    "    return broken_links\n",
    "\n",
    "# Run the check on your notebooks directory\n",
    "notebook_dir = \"./The_Aether/Notebooks/\"\n",
    "broken_links = check_markdown_links(notebook_dir)\n",
    "\n",
    "if broken_links:\n",
    "    print(\"⚠️ Found broken links:\")\n",
    "    for notebook, link in broken_links:\n",
    "        print(f\" - {notebook} → {link} (BROKEN)\")\n",
    "else:\n",
    "    print(\"✅ All notebook links are valid!\")"
   ]
  },
  {
   "cell_type": "code",
   "execution_count": null,
   "id": "493bc839-7117-4a9a-8d71-3cfa7a4c49b2",
   "metadata": {},
   "outputs": [],
   "source": []
  }
 ],
 "metadata": {
  "kernelspec": {
   "display_name": "Python 3 (ipykernel)",
   "language": "python",
   "name": "python3"
  },
  "language_info": {
   "codemirror_mode": {
    "name": "ipython",
    "version": 3
   },
   "file_extension": ".py",
   "mimetype": "text/x-python",
   "name": "python",
   "nbconvert_exporter": "python",
   "pygments_lexer": "ipython3",
   "version": "3.13.1"
  }
 },
 "nbformat": 4,
 "nbformat_minor": 5
}
